{
 "cells": [
  {
   "cell_type": "markdown",
   "id": "836e8e9c",
   "metadata": {
    "papermill": {
     "duration": 0.005723,
     "end_time": "2022-07-28T19:34:03.467392",
     "exception": false,
     "start_time": "2022-07-28T19:34:03.461669",
     "status": "completed"
    },
    "tags": []
   },
   "source": [
    "<h1 style=\"font-family: Verdana; font-size: 28px; font-style: normal; font-weight: bold; text-decoration: none; text-transform: none; letter-spacing: 3px; background-color: #CCCCFF; color: black;\"><center><br>HuBMAP + HPA 👀: Inference-FastAI Baseline 🔬</center></h1>\n",
    "                                                      \n",
    "<center><img src = \"https://drive.google.com/uc?id=1pbIvjTlhGywfhiMTqcsdOB5LSHlklM90\"/></center>   \n",
    "\n",
    "<h5 style=\"text-align: center; font-family: Verdana; font-size: 12px; font-style: normal; font-weight: bold; text-decoration: None; text-transform: none; letter-spacing: 1px; color: black; background-color: #ffffff;\">CREATED BY: NGHI HUYNH</h5>"
   ]
  },
  {
   "cell_type": "markdown",
   "id": "6afe0f1f",
   "metadata": {},
   "source": [
    "**About** : This notebook is used to do inference, and submission on the test data\n"
   ]
  },
  {
   "cell_type": "code",
   "execution_count": null,
   "id": "bf2b9dbc",
   "metadata": {},
   "outputs": [],
   "source": [
    "# %load_ext nb_black\n",
    "%load_ext autoreload\n",
    "%autoreload 2"
   ]
  },
  {
   "cell_type": "markdown",
   "id": "ed46e370",
   "metadata": {},
   "source": [
    "# Initialization"
   ]
  },
  {
   "cell_type": "markdown",
   "id": "331a7d60",
   "metadata": {},
   "source": [
    "## Imports"
   ]
  },
  {
   "cell_type": "code",
   "execution_count": null,
   "id": "8f6b839a",
   "metadata": {},
   "outputs": [],
   "source": [
    "import os\n",
    "import sys\n",
    "import json\n",
    "import torch\n",
    "import warnings\n",
    "import numpy as np\n",
    "import pandas as pd\n",
    "import seaborn as sns\n",
    "\n",
    "from tqdm.notebook import tqdm\n",
    "from matplotlib import pyplot as plt\n",
    "\n",
    "sys.path.append(\"../src/\")\n",
    "# warnings.simplefilter(\"ignore\", UserWarning)\n",
    "import warnings; warnings.filterwarnings(\"ignore\")"
   ]
  },
  {
   "cell_type": "code",
   "execution_count": null,
   "id": "92c56111",
   "metadata": {},
   "outputs": [],
   "source": [
    "from params import *\n",
    "from inference.test import *\n",
    "\n",
    "from data.dataset import HuBMAPDatasetTest\n",
    "from data.transforms import *"
   ]
  },
  {
   "cell_type": "markdown",
   "id": "57632ace",
   "metadata": {},
   "source": [
    "## Main"
   ]
  },
  {
   "cell_type": "code",
   "execution_count": null,
   "id": "c52aa49d",
   "metadata": {},
   "outputs": [],
   "source": [
    "#Ensemble models for better performance\n",
    "PRETRAINED_MODELS = [f'../input/unext101/models_UNext101_32x4/model_{i}.pth' for i in range(4)]\n",
    "df_samples = pd.read_csv('../input/hubmap-organ-segmentation/sample_submission.csv')"
   ]
  },
  {
   "cell_type": "code",
   "execution_count": null,
   "id": "ee0a7259",
   "metadata": {},
   "outputs": [],
   "source": [
    "names, preds = inference(df_samples)"
   ]
  },
  {
   "cell_type": "code",
   "execution_count": 17,
   "id": "f00799fc",
   "metadata": {
    "execution": {
     "iopub.execute_input": "2022-07-28T19:34:31.256360Z",
     "iopub.status.busy": "2022-07-28T19:34:31.256082Z",
     "iopub.status.idle": "2022-07-28T19:34:31.265946Z",
     "shell.execute_reply": "2022-07-28T19:34:31.265105Z"
    },
    "papermill": {
     "duration": 0.021926,
     "end_time": "2022-07-28T19:34:31.267880",
     "exception": false,
     "start_time": "2022-07-28T19:34:31.245954",
     "status": "completed"
    },
    "tags": []
   },
   "outputs": [],
   "source": [
    "df = pd.DataFrame({'id':names,'rle':preds})\n",
    "df.to_csv('submission.csv',index=False)"
   ]
  },
  {
   "cell_type": "code",
   "execution_count": 18,
   "id": "19cd56e6",
   "metadata": {
    "execution": {
     "iopub.execute_input": "2022-07-28T19:34:31.286841Z",
     "iopub.status.busy": "2022-07-28T19:34:31.286589Z",
     "iopub.status.idle": "2022-07-28T19:34:31.298021Z",
     "shell.execute_reply": "2022-07-28T19:34:31.297056Z"
    },
    "papermill": {
     "duration": 0.023123,
     "end_time": "2022-07-28T19:34:31.299945",
     "exception": false,
     "start_time": "2022-07-28T19:34:31.276822",
     "status": "completed"
    },
    "tags": []
   },
   "outputs": [
    {
     "data": {
      "text/html": [
       "<div>\n",
       "<style scoped>\n",
       "    .dataframe tbody tr th:only-of-type {\n",
       "        vertical-align: middle;\n",
       "    }\n",
       "\n",
       "    .dataframe tbody tr th {\n",
       "        vertical-align: top;\n",
       "    }\n",
       "\n",
       "    .dataframe thead th {\n",
       "        text-align: right;\n",
       "    }\n",
       "</style>\n",
       "<table border=\"1\" class=\"dataframe\">\n",
       "  <thead>\n",
       "    <tr style=\"text-align: right;\">\n",
       "      <th></th>\n",
       "      <th>id</th>\n",
       "      <th>rle</th>\n",
       "    </tr>\n",
       "  </thead>\n",
       "  <tbody>\n",
       "    <tr>\n",
       "      <th>0</th>\n",
       "      <td>10078</td>\n",
       "      <td>10 40 51 25 98 501 2028 653 4049 686 6071 686 8094 686 10117 685 12140 683 14163 681 16185 679 18208 678 20231 676 22254 674 24277 672 26300 671 28323 669 30346 667 32369 649 33027 6 34392 646 36415 644 38438 642 40462 637 42485 622 44508 618 46531 615 48554 612 50577 608 52600 604 54623 601 56646 599 58669 598 60692 596 62715 594 64738 593 66761 559 67323 29 68784 555 69348 25 70807 553 71373 20 72830 551 73398 16 74853 549 75423 12 76876 548 77447 8 78899 547 79472 4 80922 546 82945 65 83017 473 84968 61 85046 465 86991 58 87078 455 89014 54 89104 206 89320 233 91037 51 91129 201 91346 2...</td>\n",
       "    </tr>\n",
       "  </tbody>\n",
       "</table>\n",
       "</div>"
      ],
      "text/plain": [
       "      id  \\\n",
       "0  10078   \n",
       "\n",
       "                                                                                                                                                                                                                                                                                                                                                                                                                                                                                                                                                                                                                       rle  \n",
       "0  10 40 51 25 98 501 2028 653 4049 686 6071 686 8094 686 10117 685 12140 683 14163 681 16185 679 18208 678 20231 676 22254 674 24277 672 26300 671 28323 669 30346 667 32369 649 33027 6 34392 646 36415 644 38438 642 40462 637 42485 622 44508 618 46531 615 48554 612 50577 608 52600 604 54623 601 56646 599 58669 598 60692 596 62715 594 64738 593 66761 559 67323 29 68784 555 69348 25 70807 553 71373 20 72830 551 73398 16 74853 549 75423 12 76876 548 77447 8 78899 547 79472 4 80922 546 82945 65 83017 473 84968 61 85046 465 86991 58 87078 455 89014 54 89104 206 89320 233 91037 51 91129 201 91346 2...  "
      ]
     },
     "execution_count": 18,
     "metadata": {},
     "output_type": "execute_result"
    }
   ],
   "source": [
    "df"
   ]
  },
  {
   "cell_type": "code",
   "execution_count": null,
   "id": "ee0419d2",
   "metadata": {
    "papermill": {
     "duration": 0.009276,
     "end_time": "2022-07-28T19:34:31.318589",
     "exception": false,
     "start_time": "2022-07-28T19:34:31.309313",
     "status": "completed"
    },
    "tags": []
   },
   "outputs": [],
   "source": []
  }
 ],
 "metadata": {
  "kernelspec": {
   "display_name": "Python 3",
   "language": "python",
   "name": "python3"
  },
  "language_info": {
   "codemirror_mode": {
    "name": "ipython",
    "version": 3
   },
   "file_extension": ".py",
   "mimetype": "text/x-python",
   "name": "python",
   "nbconvert_exporter": "python",
   "pygments_lexer": "ipython3",
   "version": "3.9.5"
  },
  "papermill": {
   "default_parameters": {},
   "duration": 38.305725,
   "end_time": "2022-07-28T19:34:33.642175",
   "environment_variables": {},
   "exception": null,
   "input_path": "__notebook__.ipynb",
   "output_path": "__notebook__.ipynb",
   "parameters": {},
   "start_time": "2022-07-28T19:33:55.336450",
   "version": "2.3.4"
  }
 },
 "nbformat": 4,
 "nbformat_minor": 5
}
